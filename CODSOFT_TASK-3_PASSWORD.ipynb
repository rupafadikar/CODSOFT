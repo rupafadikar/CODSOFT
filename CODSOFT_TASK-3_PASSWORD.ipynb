{
 "cells": [
  {
   "cell_type": "markdown",
   "id": "56048558-978f-489f-b4d7-6b1c74897a67",
   "metadata": {},
   "source": [
    "# Name : RUPA FADIKAR"
   ]
  },
  {
   "cell_type": "markdown",
   "id": "25408aee-abd0-4ce1-ac66-ba01f4c3a5eb",
   "metadata": {},
   "source": [
    "# CODSOFT Python Programming Internship"
   ]
  },
  {
   "cell_type": "markdown",
   "id": "82dda2f5-1f5b-4e20-a5c0-7b845557f174",
   "metadata": {},
   "source": [
    "# Intenship Task-3 : PASSWORD GENERATOR"
   ]
  },
  {
   "cell_type": "code",
   "execution_count": 2,
   "id": "65a6eaf2-027f-4235-ac7f-596a5048e247",
   "metadata": {},
   "outputs": [
    {
     "name": "stdin",
     "output_type": "stream",
     "text": [
      "Enter Password Length : 16\n"
     ]
    },
    {
     "name": "stdout",
     "output_type": "stream",
     "text": [
      "Choose character set for your password from below :\n",
      "1. Letters\n",
      "2. Digits\n",
      "3. Special characters\n",
      "4. Exit\n",
      "\n"
     ]
    },
    {
     "name": "stdin",
     "output_type": "stream",
     "text": [
      "Select Option :  1\n",
      "Select Option :  2\n",
      "Select Option :  3\n",
      "Select Option :  4\n"
     ]
    },
    {
     "name": "stdout",
     "output_type": "stream",
     "text": [
      "Your Password:  I<\\$4&ZO!t@;\\\\QE\n"
     ]
    }
   ],
   "source": [
    "import random\n",
    "import string\n",
    "\n",
    "pass_len = int(input(\"Enter Password Length :\"))\n",
    "pl = pass_len\n",
    "\n",
    "if pl > 1:\n",
    "    all_characters = ''\n",
    "    print(\"Choose character set for your password from below :\\n\"\n",
    "\t      \"1. Letters\\n\"\n",
    "\t      \"2. Digits\\n\"\n",
    "\t      \"3. Special characters\\n\"\n",
    "\t      \"4. Exit\\n\")\n",
    "    while True:\n",
    "        try:\n",
    "            choice = int(input(\"Select Option : \"))\n",
    "            if choice == 1:\n",
    "                all_characters = all_characters + string.ascii_letters\n",
    "            elif choice == 2:\n",
    "                all_characters = all_characters + string.digits\n",
    "            elif choice == 3:\n",
    "                all_characters = all_characters + string.punctuation\n",
    "            elif choice == 4:\n",
    "                if all_characters:\n",
    "                    password = ''.join(random.choice(all_characters) for _ in range(pl))\n",
    "                    print(\"Your Password: \",password )\n",
    "                    break\n",
    "                else:\n",
    "                    print(\"No character set selected, Enter at least one option.\")\n",
    "                    break\n",
    "            else:\n",
    "                print(\"Invalid select option!!! Enter valid select option.\")\n",
    "        except ValueError:\n",
    "            print(\"Error !!! \\nPlease Enter valid select option.\")\n",
    "else:\n",
    "    print(\"Invalid Password Length !!!!\")"
   ]
  },
  {
   "cell_type": "code",
   "execution_count": null,
   "id": "eb9252af-eba9-404f-952a-7dc191f38399",
   "metadata": {},
   "outputs": [],
   "source": []
  }
 ],
 "metadata": {
  "kernelspec": {
   "display_name": "Python 3 (ipykernel)",
   "language": "python",
   "name": "python3"
  },
  "language_info": {
   "codemirror_mode": {
    "name": "ipython",
    "version": 3
   },
   "file_extension": ".py",
   "mimetype": "text/x-python",
   "name": "python",
   "nbconvert_exporter": "python",
   "pygments_lexer": "ipython3",
   "version": "3.12.4"
  }
 },
 "nbformat": 4,
 "nbformat_minor": 5
}
