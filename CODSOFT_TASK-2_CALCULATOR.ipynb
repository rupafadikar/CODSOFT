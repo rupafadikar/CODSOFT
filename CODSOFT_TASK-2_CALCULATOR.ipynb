{
 "cells": [
  {
   "cell_type": "markdown",
   "id": "d3ff22ca-f597-42b1-8933-c90c37abbf1c",
   "metadata": {},
   "source": [
    "# Name : RUPA FADIKAR"
   ]
  },
  {
   "cell_type": "markdown",
   "id": "34a38ae5-5306-4c5f-88d5-fd990323b994",
   "metadata": {},
   "source": [
    "# CODSOFT Python Programming Internship"
   ]
  },
  {
   "cell_type": "markdown",
   "id": "80681b13-95c8-4639-bbfd-cb848e9fba1a",
   "metadata": {},
   "source": [
    "# Intenship Task-2 : CALCULATOR"
   ]
  },
  {
   "cell_type": "code",
   "execution_count": 2,
   "id": "234d36ef-54bc-425e-80e2-dabb9d3349da",
   "metadata": {},
   "outputs": [
    {
     "name": "stdout",
     "output_type": "stream",
     "text": [
      "\n",
      "---- CALCULATOR ----\n",
      "Select Operation - \n",
      "1. Addition\n",
      "2. Subtraction\n",
      "3. Multiplication\n",
      "4. Division\n",
      "5. Power\n",
      "6. Modulus\n",
      "7. Exit\n"
     ]
    },
    {
     "name": "stdin",
     "output_type": "stream",
     "text": [
      "Enter Your Choice (1/2/3/4/5/6/7) :  1\n",
      "Enter First Number :  5.3\n",
      "Enter Second Number :  2.1\n"
     ]
    },
    {
     "name": "stdout",
     "output_type": "stream",
     "text": [
      "5.3 + 2.1 = 7.4\n"
     ]
    },
    {
     "name": "stdin",
     "output_type": "stream",
     "text": [
      "Enter Your Choice (1/2/3/4/5/6/7) :  2\n",
      "Enter First Number :  4.3\n",
      "Enter Second Number :  6.2\n"
     ]
    },
    {
     "name": "stdout",
     "output_type": "stream",
     "text": [
      "4.3 - 6.2 = -1.9000000000000004\n"
     ]
    },
    {
     "name": "stdin",
     "output_type": "stream",
     "text": [
      "Enter Your Choice (1/2/3/4/5/6/7) :  3\n",
      "Enter First Number :  5.1\n",
      "Enter Second Number :  5.2\n"
     ]
    },
    {
     "name": "stdout",
     "output_type": "stream",
     "text": [
      "5.1 * 5.2 = 26.52\n"
     ]
    },
    {
     "name": "stdin",
     "output_type": "stream",
     "text": [
      "Enter Your Choice (1/2/3/4/5/6/7) :  4\n",
      "Enter First Number :  12.6\n",
      "Enter Second Number :  2.2\n"
     ]
    },
    {
     "name": "stdout",
     "output_type": "stream",
     "text": [
      "12.6 / 2.2 = 5.727272727272727\n"
     ]
    },
    {
     "name": "stdin",
     "output_type": "stream",
     "text": [
      "Enter Your Choice (1/2/3/4/5/6/7) :  5\n",
      "Enter First Number :  2\n",
      "Enter Second Number :  2\n"
     ]
    },
    {
     "name": "stdout",
     "output_type": "stream",
     "text": [
      "2.0 ^ 2.0 = 4.0\n"
     ]
    },
    {
     "name": "stdin",
     "output_type": "stream",
     "text": [
      "Enter Your Choice (1/2/3/4/5/6/7) :  6\n",
      "Enter First Number :  46\n",
      "Enter Second Number :  2\n"
     ]
    },
    {
     "name": "stdout",
     "output_type": "stream",
     "text": [
      "46.0 % 2.0 = 0.0\n"
     ]
    },
    {
     "name": "stdin",
     "output_type": "stream",
     "text": [
      "Enter Your Choice (1/2/3/4/5/6/7) :  7\n"
     ]
    },
    {
     "name": "stdout",
     "output_type": "stream",
     "text": [
      "Thanks For Using.\n",
      "\n"
     ]
    }
   ],
   "source": [
    "#function for addition\n",
    "def addition(x,y):\n",
    "    return x + y\n",
    "    \n",
    "#function for subtraction\n",
    "def subtraction(x,y):\n",
    "    return x - y\n",
    "\n",
    "#function for multiplication\n",
    "def multiplication(x,y):\n",
    "    return x * y\n",
    "\n",
    "#function for division\n",
    "def division(x,y):\n",
    "    return x / y\n",
    "\n",
    "#function for power\n",
    "def power(x,y):\n",
    "    return x ** y\n",
    "\n",
    "#function for modulus\n",
    "def modulus(x,y):\n",
    "    return x % y\n",
    "    \n",
    "\n",
    "print(\"\\n---- CALCULATOR ----\\n\"\n",
    "     \"Select Operation - \\n\"\n",
    "     \"1. Addition\\n\"\n",
    "     \"2. Subtraction\\n\"\n",
    "     \"3. Multiplication\\n\"\n",
    "     \"4. Division\\n\"\n",
    "     \"5. Power\\n\"\n",
    "     \"6. Modulus\\n\"\n",
    "     \"7. Exit\")\n",
    "\n",
    "\n",
    "while True:\n",
    "    #for enter choices\n",
    "    choice = int(input(\"Enter Your Choice (1/2/3/4/5/6/7) : \"))\n",
    "    if choice == 7:\n",
    "        print(\"Thanks For Using.\\n\")\n",
    "        break\n",
    "    elif choice > 7:\n",
    "        print(\"Invalid Choice, please Enter a Valid Choice\\n\")\n",
    "    else:\n",
    "        #enter two numbers as num1 and num2\n",
    "        num1 = float(input(\"Enter First Number : \"))\n",
    "        num2 = float(input(\"Enter Second Number : \"))\n",
    "        \n",
    "        if choice == 1:\n",
    "            print(num1,\"+\",num2,\"=\",addition(num1,num2))\n",
    "        elif choice == 2:\n",
    "            print(num1,\"-\",num2,\"=\",subtraction(num1,num2))\n",
    "        elif choice == 3:\n",
    "            print(num1,\"*\",num2,\"=\",multiplication(num1,num2))\n",
    "        elif choice == 4:\n",
    "            print(num1,\"/\",num2,\"=\",division(num1,num2))\n",
    "        elif choice == 5:\n",
    "            print(num1,\"^\",num2,\"=\",power(num1,num2))\n",
    "        elif choice == 6:\n",
    "            print(num1,\"%\",num2,\"=\",modulus(num1,num2))\n",
    "        "
   ]
  },
  {
   "cell_type": "code",
   "execution_count": null,
   "id": "4c9cc603-7c67-4914-867f-eb8cf94ef9c0",
   "metadata": {},
   "outputs": [],
   "source": []
  }
 ],
 "metadata": {
  "kernelspec": {
   "display_name": "Python 3 (ipykernel)",
   "language": "python",
   "name": "python3"
  },
  "language_info": {
   "codemirror_mode": {
    "name": "ipython",
    "version": 3
   },
   "file_extension": ".py",
   "mimetype": "text/x-python",
   "name": "python",
   "nbconvert_exporter": "python",
   "pygments_lexer": "ipython3",
   "version": "3.12.4"
  }
 },
 "nbformat": 4,
 "nbformat_minor": 5
}
