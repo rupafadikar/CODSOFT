{
 "cells": [
  {
   "cell_type": "markdown",
   "id": "f98902a2-3b3f-4133-92ce-6bb3758e5fd8",
   "metadata": {},
   "source": [
    "# Name : RUPA FADIKAR"
   ]
  },
  {
   "cell_type": "markdown",
   "id": "a179d9bc-f511-4e99-8223-2a28b4ed2250",
   "metadata": {},
   "source": [
    "# CODSOFT Python Programming Internship"
   ]
  },
  {
   "cell_type": "markdown",
   "id": "1e1e60c1-8f64-402b-a192-bb290cc375a7",
   "metadata": {},
   "source": [
    "# Intenship Task-1 : TO-DO LIST"
   ]
  },
  {
   "cell_type": "code",
   "execution_count": 6,
   "id": "c839d20d-053f-4ea2-a1dc-63a759abdee4",
   "metadata": {},
   "outputs": [],
   "source": [
    "from tkinter import *\n",
    "from tkinter import messagebox\n",
    "\n",
    "\n",
    "# ADD FUNCTION\n",
    "def add():\n",
    "    te = task.get()\n",
    "    if te:\n",
    "        tasklist_box.insert(END, te)\n",
    "        task.delete(0, END)\n",
    "    else:\n",
    "        messagebox.showwarning('An Error Occured !!!','Entry field is Empty')\n",
    "\n",
    "# MARK FUNCTION\n",
    "def mark():\n",
    "    index = tasklist_box.curselection()\n",
    "    if index:\n",
    "        task_text = tasklist_box.get(index)\n",
    "        if not task_text.startswith(\"✔ \"):  # Prevent double marking\n",
    "            tasklist_box.delete(index)\n",
    "            tasklist_box.insert(index, f\"✔ {task_text}\")\n",
    "    else:\n",
    "        messagebox.showwarning('An Error Occured !!!','Select any task to mark')\n",
    "\n",
    "\n",
    "# REMOVE FUNCTION\n",
    "def remove():\n",
    "    select_task_index = tasklist_box.curselection()\n",
    "    if select_task_index:\n",
    "        tasklist_box.delete(select_task_index)\n",
    "    else:\n",
    "        messagebox.showwarning('An Error Occured !!!','Select task to remove')\n",
    "\n",
    "\n",
    "# CLEAR FUNCTION\n",
    "def clear():\n",
    "    tasklist_box.delete(0, END)\n",
    "\n",
    "\n",
    "# CREATE OBJECT\n",
    "root = Tk()\n",
    "root.title(\"TO-DO List\")\n",
    "root.configure(bg=\"#B5E5CF\")\n",
    "\n",
    "\n",
    "# HEADING\n",
    "l = Label(root, text=\"TO-DO List\", bg=\"#B5E5CF\", font=(\"Georgia\", 20, \"bold\"), fg=\"#FF6103\", padx=20, pady=30)\n",
    "l.pack()\n",
    "\n",
    "\n",
    "frame = Frame(root, bg=\"#B5E5CF\")\n",
    "frame.pack(pady=10)\n",
    "\n",
    "\n",
    "a = Label(frame, text=\"Enter Your Task\", bg=\"#B5E5CF\", font=(\"arial\", 10, \"bold\"), anchor=\"w\")\n",
    "a.grid(row=0, column=0, padx=5, pady=2, sticky=\"w\") \n",
    "\n",
    "\n",
    "task = Entry(frame, width=40, font=(\"arial\", 12))\n",
    "task.grid(row=1, column=0, padx=5, pady=5)\n",
    "\n",
    "\n",
    "# ADD BUTTON\n",
    "at = Button(frame, text=\" ADD Task \", command=add, font=(\"arial\", 10, \"bold\"))\n",
    "at.grid(row=1, column=1, padx=10, pady=5, sticky=\"n\")\n",
    "\n",
    "\n",
    "# LIST BOX \n",
    "task_frame = Frame(frame, bg=\"#B5E5CF\")\n",
    "task_frame.grid(row=2, column=0, padx=5, pady=5)\n",
    "\n",
    "tasklist_box = Listbox(task_frame, width=40, height=15, font=(\"arial\", 12), bg=\"#fff3f0\")\n",
    "tasklist_box.grid(row=0, column=0, padx=10, pady=5)\n",
    "\n",
    "\n",
    "# BUTTON FRAME\n",
    "button_frame = Frame(frame, bg=\"#B5E5CF\")\n",
    "button_frame.grid(row=2, column=1, padx=10, pady=5, sticky=\"n\")\n",
    "\n",
    "vt = Button(button_frame, text=\"MARK\", command=mark, font=(\"arial\", 10, \"bold\"))\n",
    "vt.pack(pady=5, fill=\"x\")\n",
    "\n",
    "mt = Button(button_frame, text=\"REMOVE\", command=remove, font=(\"arial\", 10, \"bold\"))\n",
    "mt.pack(pady=5, fill=\"x\")\n",
    "\n",
    "mt = Button(button_frame, text=\"CLEAR ALL\", command=clear, font=(\"arial\", 10, \"bold\"))\n",
    "mt.pack(pady=5, fill=\"x\")\n",
    "\n",
    "\n",
    "# EXECUTE TKINTER\n",
    "root.mainloop()"
   ]
  },
  {
   "cell_type": "code",
   "execution_count": null,
   "id": "5d17b4f7-4919-4b80-898c-0ac5908ce56e",
   "metadata": {},
   "outputs": [],
   "source": []
  }
 ],
 "metadata": {
  "kernelspec": {
   "display_name": "Python 3 (ipykernel)",
   "language": "python",
   "name": "python3"
  },
  "language_info": {
   "codemirror_mode": {
    "name": "ipython",
    "version": 3
   },
   "file_extension": ".py",
   "mimetype": "text/x-python",
   "name": "python",
   "nbconvert_exporter": "python",
   "pygments_lexer": "ipython3",
   "version": "3.12.4"
  }
 },
 "nbformat": 4,
 "nbformat_minor": 5
}
